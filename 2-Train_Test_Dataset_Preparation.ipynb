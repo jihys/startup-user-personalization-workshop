{
 "cells": [
  {
   "cell_type": "markdown",
   "metadata": {},
   "source": [
    "# Module 2. 학습 및 테스트 데이터 세트 분류"
   ]
  },
  {
   "cell_type": "markdown",
   "metadata": {},
   "source": [
    "## Library Import \n",
    "\n",
    "파이썬에는 광범위한 라이브러리 모음이 포함되어 있으며, 본 LAB을 위해서 핵심 Data Scientist용 Tool 인 boto3 (AWS SDK) 및 Pandas/Numpy와 같은 라이브러리를 가져와야 합니다. "
   ]
  },
  {
   "cell_type": "code",
   "execution_count": 1,
   "metadata": {},
   "outputs": [],
   "source": [
    "# Imports\n",
    "import boto3\n",
    "import json\n",
    "import numpy as np\n",
    "import pandas as pd\n",
    "import time\n",
    "import os\n",
    "\n",
    "from datetime import datetime\n",
    "import sagemaker\n",
    "import time\n",
    "import warnings\n",
    "\n",
    "import matplotlib.pyplot as plt\n",
    "from matplotlib.dates import DateFormatter\n",
    "import matplotlib.dates as mdate\n",
    "from botocore.exceptions import ClientError"
   ]
  },
  {
   "cell_type": "markdown",
   "metadata": {},
   "source": [
    "다음으로 여러분의 환경이 Amazon Personalize와 성공적으로 통신할 수 있는지 확인해야 합니다."
   ]
  },
  {
   "cell_type": "code",
   "execution_count": 2,
   "metadata": {},
   "outputs": [],
   "source": [
    "# Configure the SDK to Personalize:\n",
    "personalize = boto3.client('personalize')\n",
    "personalize_runtime = boto3.client('personalize-runtime')\n",
    "s3 = boto3.resource('s3')"
   ]
  },
  {
   "cell_type": "markdown",
   "metadata": {},
   "source": [
    "이전에 저장했던 파라미터를 불러오기 옵니다"
   ]
  },
  {
   "cell_type": "code",
   "execution_count": 3,
   "metadata": {},
   "outputs": [],
   "source": [
    "%store -r"
   ]
  },
  {
   "cell_type": "markdown",
   "metadata": {},
   "source": [
    "### 파일 읽어 오기 "
   ]
  },
  {
   "cell_type": "code",
   "execution_count": 4,
   "metadata": {},
   "outputs": [],
   "source": [
    "df=pd.read_csv(inter_file)\n",
    "item=pd.read_csv(item_file)\n",
    "user=pd.read_csv(user_file)"
   ]
  },
  {
   "cell_type": "markdown",
   "metadata": {},
   "source": [
    "## Cold Dataset 파악하기 \n",
    "\n",
    "User personalization은 신규아이템 생성 시간을 기준으로 콜드 아이템 추천하는 기간을 추정합니다.<br/>\n",
    "만약 Item Metadata 세에 생성 타임 스탬프가 없을 경우에는 해당 아이템이 처음 인터렉션이 발생하는 시간을 생성 날짜로 사용합니다. <br/>\n",
    "지금 제공하는 샘플 데이터 셋에는 메타 데이터에는 생성 타임 스탬프가 없기 때문에 인터렉션 시간을 기준으로 유추하게 됩니다. <br/>\n",
    "자세한 내용은 [여기](https://docs.aws.amazon.com/ko_kr/personalize/latest/dg/creation-timestamp-data.html)를\n",
    " 클릭해 봅니다. \n",
    " \n",
    "여기서는 아이템 첫 인터렉션을 기준으로 월별 신규 아이템 수를 분석해 봅니다.\n"
   ]
  },
  {
   "cell_type": "markdown",
   "metadata": {},
   "source": [
    "### Update the timestamp\n",
    "\n",
    "이번 실습에서 사용되는 데이터 세트는 2000년 4월 25일 부터 12월 30일가지의 데이터 세트 입니다.\n",
    "Personalize는 item의 생성 타임 스탬프가 없을경우 인터렉션이 처음 생성된 타임 스탬프를 기준으로 하게 됩니다.\n",
    "https://docs.aws.amazon.com/personalize/latest/dg/creation-timestamp-data.html\n",
    "\n",
    "Cold Item 테스트를 위해 모든 데이터 세트를 최신 데이터 세트 기준으로 바꾸도록 합니다."
   ]
  },
  {
   "cell_type": "code",
   "execution_count": 5,
   "metadata": {},
   "outputs": [
    {
     "name": "stdout",
     "output_type": "stream",
     "text": [
      "from 2000-04-25 23:05:32 to 2000-12-30 23:59:03\n"
     ]
    }
   ],
   "source": [
    "## Check Min/Max Time in interaction dataset\n",
    "print(\"from\",datetime.utcfromtimestamp(df['TIMESTAMP'].min()).strftime('%Y-%m-%d %H:%M:%S'), \"to\", datetime.utcfromtimestamp(df['TIMESTAMP'].max()).strftime('%Y-%m-%d %H:%M:%S') )"
   ]
  },
  {
   "cell_type": "code",
   "execution_count": 6,
   "metadata": {},
   "outputs": [],
   "source": [
    "# Get the time gap between the latest timestamp in the interaction and the current time \n",
    "current_time = int(time.time())\n",
    "df = df.astype({\"TIMESTAMP\": 'int64'})\n",
    "latest_time_in_csv = df[\"TIMESTAMP\"].max()\n",
    "delta = current_time- latest_time_in_csv"
   ]
  },
  {
   "cell_type": "code",
   "execution_count": 7,
   "metadata": {},
   "outputs": [],
   "source": [
    "# shift the latest timestamp in the interactions_df to be the last hour timestamp\n",
    "df.TIMESTAMP = df.TIMESTAMP + delta"
   ]
  },
  {
   "cell_type": "code",
   "execution_count": 8,
   "metadata": {},
   "outputs": [
    {
     "name": "stdout",
     "output_type": "stream",
     "text": [
      "from 2020-04-11 06:11:26 to 2020-12-16 07:04:57\n"
     ]
    }
   ],
   "source": [
    "\n",
    "## Check shifted Min/Max Time in interaction dataset\n",
    "print(\"from\",datetime.utcfromtimestamp(df['TIMESTAMP'].min()).strftime('%Y-%m-%d %H:%M:%S'), \"to\", datetime.utcfromtimestamp(df['TIMESTAMP'].max()).strftime('%Y-%m-%d %H:%M:%S') )\n"
   ]
  },
  {
   "cell_type": "markdown",
   "metadata": {},
   "source": [
    "### Daily New Item 개수 파악 하기"
   ]
  },
  {
   "cell_type": "code",
   "execution_count": 9,
   "metadata": {},
   "outputs": [
    {
     "data": {
      "text/html": [
       "<div>\n",
       "<style scoped>\n",
       "    .dataframe tbody tr th:only-of-type {\n",
       "        vertical-align: middle;\n",
       "    }\n",
       "\n",
       "    .dataframe tbody tr th {\n",
       "        vertical-align: top;\n",
       "    }\n",
       "\n",
       "    .dataframe thead th {\n",
       "        text-align: right;\n",
       "    }\n",
       "</style>\n",
       "<table border=\"1\" class=\"dataframe\">\n",
       "  <thead>\n",
       "    <tr style=\"text-align: right;\">\n",
       "      <th></th>\n",
       "      <th>TIMESTAMP</th>\n",
       "    </tr>\n",
       "    <tr>\n",
       "      <th>ITEM_ID</th>\n",
       "      <th></th>\n",
       "    </tr>\n",
       "  </thead>\n",
       "  <tbody>\n",
       "    <tr>\n",
       "      <th>1</th>\n",
       "      <td>2020-04-11 08:40:03</td>\n",
       "    </tr>\n",
       "    <tr>\n",
       "      <th>2</th>\n",
       "      <td>2020-04-11 10:26:32</td>\n",
       "    </tr>\n",
       "    <tr>\n",
       "      <th>3</th>\n",
       "      <td>2020-04-11 13:55:14</td>\n",
       "    </tr>\n",
       "    <tr>\n",
       "      <th>4</th>\n",
       "      <td>2020-04-12 12:36:50</td>\n",
       "    </tr>\n",
       "    <tr>\n",
       "      <th>5</th>\n",
       "      <td>2020-04-13 08:24:36</td>\n",
       "    </tr>\n",
       "  </tbody>\n",
       "</table>\n",
       "</div>"
      ],
      "text/plain": [
       "                  TIMESTAMP\n",
       "ITEM_ID                    \n",
       "1       2020-04-11 08:40:03\n",
       "2       2020-04-11 10:26:32\n",
       "3       2020-04-11 13:55:14\n",
       "4       2020-04-12 12:36:50\n",
       "5       2020-04-13 08:24:36"
      ]
     },
     "execution_count": 9,
     "metadata": {},
     "output_type": "execute_result"
    }
   ],
   "source": [
    "item_creation_time=df[[\"ITEM_ID\",\"TIMESTAMP\"]].groupby('ITEM_ID').min()\n",
    "item_creation_time['TIMESTAMP'] =pd.to_datetime(item_creation_time['TIMESTAMP'], unit='s')\n",
    "item_creation_time.head()"
   ]
  },
  {
   "cell_type": "code",
   "execution_count": 10,
   "metadata": {},
   "outputs": [
    {
     "data": {
      "text/html": [
       "<div>\n",
       "<style scoped>\n",
       "    .dataframe tbody tr th:only-of-type {\n",
       "        vertical-align: middle;\n",
       "    }\n",
       "\n",
       "    .dataframe tbody tr th {\n",
       "        vertical-align: top;\n",
       "    }\n",
       "\n",
       "    .dataframe thead th {\n",
       "        text-align: right;\n",
       "    }\n",
       "</style>\n",
       "<table border=\"1\" class=\"dataframe\">\n",
       "  <thead>\n",
       "    <tr style=\"text-align: right;\">\n",
       "      <th></th>\n",
       "      <th>ITEM_COUNT</th>\n",
       "    </tr>\n",
       "    <tr>\n",
       "      <th>TIMESTAMP</th>\n",
       "      <th></th>\n",
       "    </tr>\n",
       "  </thead>\n",
       "  <tbody>\n",
       "    <tr>\n",
       "      <th>2020-04-11</th>\n",
       "      <td>1240</td>\n",
       "    </tr>\n",
       "    <tr>\n",
       "      <th>2020-04-12</th>\n",
       "      <td>269</td>\n",
       "    </tr>\n",
       "    <tr>\n",
       "      <th>2020-04-13</th>\n",
       "      <td>218</td>\n",
       "    </tr>\n",
       "    <tr>\n",
       "      <th>2020-04-14</th>\n",
       "      <td>162</td>\n",
       "    </tr>\n",
       "    <tr>\n",
       "      <th>2020-04-15</th>\n",
       "      <td>55</td>\n",
       "    </tr>\n",
       "    <tr>\n",
       "      <th>...</th>\n",
       "      <td>...</td>\n",
       "    </tr>\n",
       "    <tr>\n",
       "      <th>2020-12-11</th>\n",
       "      <td>1</td>\n",
       "    </tr>\n",
       "    <tr>\n",
       "      <th>2020-12-12</th>\n",
       "      <td>1</td>\n",
       "    </tr>\n",
       "    <tr>\n",
       "      <th>2020-12-13</th>\n",
       "      <td>1</td>\n",
       "    </tr>\n",
       "    <tr>\n",
       "      <th>2020-12-14</th>\n",
       "      <td>0</td>\n",
       "    </tr>\n",
       "    <tr>\n",
       "      <th>2020-12-15</th>\n",
       "      <td>1</td>\n",
       "    </tr>\n",
       "  </tbody>\n",
       "</table>\n",
       "<p>249 rows × 1 columns</p>\n",
       "</div>"
      ],
      "text/plain": [
       "            ITEM_COUNT\n",
       "TIMESTAMP             \n",
       "2020-04-11        1240\n",
       "2020-04-12         269\n",
       "2020-04-13         218\n",
       "2020-04-14         162\n",
       "2020-04-15          55\n",
       "...                ...\n",
       "2020-12-11           1\n",
       "2020-12-12           1\n",
       "2020-12-13           1\n",
       "2020-12-14           0\n",
       "2020-12-15           1\n",
       "\n",
       "[249 rows x 1 columns]"
      ]
     },
     "execution_count": 10,
     "metadata": {},
     "output_type": "execute_result"
    }
   ],
   "source": [
    "daily_new_item=item_creation_time.reset_index().groupby(pd.Grouper(key='TIMESTAMP',freq='D')).count().rename(columns={'ITEM_ID':\"ITEM_COUNT\"})\n",
    "assert(daily_new_item['ITEM_COUNT'].sum()==len(df['ITEM_ID'].unique()))\n",
    "daily_new_item"
   ]
  },
  {
   "cell_type": "code",
   "execution_count": 11,
   "metadata": {},
   "outputs": [
    {
     "data": {
      "text/plain": [
       "1.72"
      ]
     },
     "execution_count": 11,
     "metadata": {},
     "output_type": "execute_result"
    }
   ],
   "source": [
    "#최근 100일동안 콜드 아이템 평균 개수\n",
    "daily_new_item[-100:]['ITEM_COUNT'].sum()/len(daily_new_item[-100:])"
   ]
  },
  {
   "cell_type": "code",
   "execution_count": 12,
   "metadata": {},
   "outputs": [
    {
     "data": {
      "image/png": "[encoded data removed]",
      "text/plain": [
       "<Figure size 1080x360 with 1 Axes>"
      ]
     },
     "metadata": {
      "needs_background": "light"
     },
     "output_type": "display_data"
    }
   ],
   "source": [
    "#최근 100일 동안의 Cold item 생성 결과\n",
    "import matplotlib.pyplot as plt\n",
    "from matplotlib.dates import DateFormatter\n",
    "import matplotlib.dates as mdate\n",
    "daily_new_item[-100:].plot(kind='bar',figsize=(15,5))\n",
    "plt.show()"
   ]
  },
  {
   "cell_type": "markdown",
   "metadata": {},
   "source": [
    "## Train/Test 데이터 셋 분리하기 \n",
    "여기에서는 일부 데이터를 테스트 용으로 분리하도록 합니다.\n",
    "테스트 셋은 콜드 아이템이 충분히 포함 될수 있도록 약 40일 이전 부터 최근까지의 데이터를 사용할 예정입니다."
   ]
  },
  {
   "cell_type": "code",
   "execution_count": 13,
   "metadata": {},
   "outputs": [
    {
     "name": "stdout",
     "output_type": "stream",
     "text": [
      "from 2020-04-11 06:11:26 to 2020-12-16 07:04:57\n"
     ]
    }
   ],
   "source": [
    "print(\"from\",datetime.utcfromtimestamp(df['TIMESTAMP'].min()).strftime('%Y-%m-%d %H:%M:%S'), \"to\", datetime.utcfromtimestamp(df['TIMESTAMP'].max()).strftime('%Y-%m-%d %H:%M:%S') )"
   ]
  },
  {
   "cell_type": "code",
   "execution_count": 14,
   "metadata": {},
   "outputs": [
    {
     "name": "stdout",
     "output_type": "stream",
     "text": [
      "1604646297\n",
      "<class 'pandas.core.frame.DataFrame'>\n",
      "Int64Index: 554919 entries, 161261 to 755778\n",
      "Data columns (total 5 columns):\n",
      " #   Column       Non-Null Count   Dtype \n",
      "---  ------       --------------   ----- \n",
      " 0   USER_ID      554919 non-null  int64 \n",
      " 1   ITEM_ID      554919 non-null  int64 \n",
      " 2   EVENT_VALUE  554919 non-null  int64 \n",
      " 3   TIMESTAMP    554919 non-null  int64 \n",
      " 4   EVENT_TYPE   554919 non-null  object\n",
      "dtypes: int64(4), object(1)\n",
      "memory usage: 25.4+ MB\n",
      "<class 'pandas.core.frame.DataFrame'>\n",
      "Int64Index: 200860 entries, 0 to 749831\n",
      "Data columns (total 5 columns):\n",
      " #   Column       Non-Null Count   Dtype \n",
      "---  ------       --------------   ----- \n",
      " 0   USER_ID      200860 non-null  int64 \n",
      " 1   ITEM_ID      200860 non-null  int64 \n",
      " 2   EVENT_VALUE  200860 non-null  int64 \n",
      " 3   TIMESTAMP    200860 non-null  int64 \n",
      " 4   EVENT_TYPE   200860 non-null  object\n",
      "dtypes: int64(4), object(1)\n",
      "memory usage: 9.2+ MB\n"
     ]
    }
   ],
   "source": [
    "test_start= current_time - 40*24*60*60\n",
    "print(test_start)\n",
    "df_train=df[df['TIMESTAMP']<test_start]\n",
    "df_test=df[df['TIMESTAMP']>=test_start]\n",
    "df_train.info()\n",
    "df_test.info()"
   ]
  },
  {
   "cell_type": "markdown",
   "metadata": {},
   "source": [
    "### Cold / Warm item 분리하기 \n",
    "Test 셋 데이터에는 이전에부터 인터렉션 아이템과 콜드 아이템이 모두 존재 합니다.\n",
    "여기에서는 테스트 데이터 셋안의 콜드 아이템만 분리하도록 합니다.\n",
    "또한 이후 테스트를 위해 Test 데이터 셋트 안의 old user들만을 분리하도록 합니다.\n"
   ]
  },
  {
   "cell_type": "code",
   "execution_count": 15,
   "metadata": {},
   "outputs": [
    {
     "name": "stdout",
     "output_type": "stream",
     "text": [
      "The number of Total_items: 3590\n",
      "The number of Warm_items: 3529\n",
      "The number of Cold_items: 61\n"
     ]
    }
   ],
   "source": [
    "unique_items = df['ITEM_ID'].unique()\n",
    "print(\"The number of Total_items:\", len(unique_items))\n",
    "warm_items = df_train['ITEM_ID'].unique()\n",
    "unique_items_in_test=df_test['ITEM_ID'].unique()\n",
    "cold_items=[item for item in unique_items_in_test if item not in warm_items]\n",
    "print(\"The number of Warm_items: {}\".format(len(warm_items)))\n",
    "print(\"The number of Cold_items: {}\".format(len(cold_items)))"
   ]
  },
  {
   "cell_type": "code",
   "execution_count": 16,
   "metadata": {},
   "outputs": [],
   "source": [
    "#Create metadata with only items in the interaction\n",
    "item_meta_warm=item[item['ITEM_ID'].isin(warm_items)]\n",
    "item_train=item_meta_warm.drop(['TITLE'],axis=1)\n",
    "\n",
    "#Create metadata with only items in the interaction\n",
    "item_meta_cold=item[item['ITEM_ID'].isin(cold_items)]"
   ]
  },
  {
   "cell_type": "code",
   "execution_count": 17,
   "metadata": {},
   "outputs": [],
   "source": [
    "unique_user_from_train=df_train['USER_ID'].unique()\n",
    "user_train=user[user['USER_ID'].isin(unique_user_from_train)]"
   ]
  },
  {
   "cell_type": "markdown",
   "metadata": {},
   "source": [
    "## 학습 데이터 타입 변경 및 파일 저장 하기  \n"
   ]
  },
  {
   "cell_type": "code",
   "execution_count": 18,
   "metadata": {},
   "outputs": [
    {
     "name": "stderr",
     "output_type": "stream",
     "text": [
      "/home/ec2-user/anaconda3/envs/python3/lib/python3.6/site-packages/pandas/core/generic.py:5303: SettingWithCopyWarning: \n",
      "A value is trying to be set on a copy of a slice from a DataFrame.\n",
      "Try using .loc[row_indexer,col_indexer] = value instead\n",
      "\n",
      "See the caveats in the documentation: https://pandas.pydata.org/pandas-docs/stable/user_guide/indexing.html#returning-a-view-versus-a-copy\n",
      "  self[name] = value\n"
     ]
    }
   ],
   "source": [
    "\n",
    "#Interaction Data \n",
    "\n",
    "df_train.EVENT_VALUE = df_train.EVENT_VALUE.astype(float)\n",
    "df_train.ITEM_ID = df_train.ITEM_ID.astype(str)\n",
    "df_train.USER_ID = df_train.USER_ID.astype(str)\n",
    "df_train.TIMESTAMP=df_train.TIMESTAMP.astype('int64')\n",
    "df_train.EVENT_TYPE=df_train.EVENT_TYPE.astype(str)\n",
    "\n",
    "#User Data\n",
    "user.USER_ID = user.USER_ID.astype(str)\n",
    "user.GENDER=user.GENDER.astype(str)\n",
    "user.AGE=user.AGE.astype(str)\n",
    "user.OCCUPATION=user.OCCUPATION.astype(str)\n",
    "\n",
    "user_train.USER_ID = user_train.USER_ID.astype(str)\n",
    "user_train.GENDER= user_train.GENDER.astype(str)\n",
    "user_train.AGE=user_train.AGE.astype(str)\n",
    "user_train.OCCUPATION=user_train.OCCUPATION.astype(str)\n",
    "\n",
    "#Item Data\n",
    "item_train.ITEM_ID=item_train.ITEM_ID.astype(str)\n",
    "item_train.GENRE=item_train.GENRE.astype(str)\n"
   ]
  },
  {
   "cell_type": "code",
   "execution_count": 19,
   "metadata": {},
   "outputs": [],
   "source": [
    "\n",
    "data_path=data_dir+\"/\"+WORK_DATE\n",
    "\n",
    "item_train_file=data_path+'/'+'item_train.csv'\n",
    "item_warm_file=data_path+'/'+'item_warm.csv'\n",
    "item_cold_file=data_path+'/'+'item_cold.csv'\n",
    "\n",
    "interaction_train_file=data_path+'/'+'interation_train.csv'\n",
    "interaction_test_file=data_path+'/'+'interation_test.csv'\n",
    "interaction_all_file=data_path+'/'+'df_all.csv'\n",
    "\n",
    "user_train_file=data_path+'/'+'user_train.csv'\n",
    "\n",
    "item_train.to_csv(item_train_file,index=False)\n",
    "item_meta_warm.to_csv(item_warm_file,index=False)\n",
    "item_meta_cold.to_csv(item_cold_file,index=False)\n",
    "\n",
    "df_train.to_csv(interaction_train_file, index=False)\n",
    "df_test.to_csv(interaction_test_file,index=False)\n",
    "df.to_csv(interaction_all_file,index=False)\n",
    "\n",
    "user_train.to_csv(user_train_file,index=False)\n"
   ]
  },
  {
   "cell_type": "code",
   "execution_count": 20,
   "metadata": {},
   "outputs": [
    {
     "name": "stdout",
     "output_type": "stream",
     "text": [
      "from 2020-04-11 06:11:26 to 2020-11-06 07:04:54\n"
     ]
    }
   ],
   "source": [
    "print(\"from\",datetime.utcfromtimestamp(df_train['TIMESTAMP'].min()).strftime('%Y-%m-%d %H:%M:%S'), \"to\", datetime.utcfromtimestamp(df_train['TIMESTAMP'].max()).strftime('%Y-%m-%d %H:%M:%S') )"
   ]
  },
  {
   "cell_type": "code",
   "execution_count": 21,
   "metadata": {},
   "outputs": [
    {
     "name": "stdout",
     "output_type": "stream",
     "text": [
      "-----Test Data------\n",
      "from 2020-11-06 07:04:57 to 2020-12-16 07:04:57\n"
     ]
    }
   ],
   "source": [
    "print(\"-----Test Data------\")\n",
    "print(\"from\",datetime.utcfromtimestamp(df_test['TIMESTAMP'].min()).strftime('%Y-%m-%d %H:%M:%S'), \"to\", datetime.utcfromtimestamp(df_test['TIMESTAMP'].max()).strftime('%Y-%m-%d %H:%M:%S') )"
   ]
  },
  {
   "cell_type": "code",
   "execution_count": 22,
   "metadata": {},
   "outputs": [
    {
     "name": "stdout",
     "output_type": "stream",
     "text": [
      "Stored 'item_train_file' (str)\n",
      "Stored 'item_warm_file' (str)\n",
      "Stored 'item_cold_file' (str)\n",
      "Stored 'interaction_train_file' (str)\n",
      "Stored 'interaction_test_file' (str)\n",
      "Stored 'interaction_all_file' (str)\n",
      "Stored 'user_train_file' (str)\n"
     ]
    }
   ],
   "source": [
    "%store item_train_file\n",
    "%store item_warm_file\n",
    "%store item_cold_file\n",
    "%store interaction_train_file\n",
    "%store interaction_test_file\n",
    "%store interaction_all_file\n",
    "%store user_train_file\n"
   ]
  }
 ],
 "metadata": {
  "kernelspec": {
   "display_name": "conda_python3",
   "language": "python",
   "name": "conda_python3"
  },
  "language_info": {
   "codemirror_mode": {
    "name": "ipython",
    "version": 3
   },
   "file_extension": ".py",
   "mimetype": "text/x-python",
   "name": "python",
   "nbconvert_exporter": "python",
   "pygments_lexer": "ipython3",
   "version": "3.6.10"
  }
 },
 "nbformat": 4,
 "nbformat_minor": 4
}
